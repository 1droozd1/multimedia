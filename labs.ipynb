{
 "cells": [
  {
   "cell_type": "markdown",
   "metadata": {},
   "source": [
    "# Лабораторная работа №1 - KNN"
   ]
  },
  {
   "cell_type": "markdown",
   "metadata": {},
   "source": [
    "## Выбор набора данных и метрик\n",
    "\n",
    "Я выбрал датасет, содержащий данные о химическом составе различных вин. Этот датасет можно использовать как для классификации, так и для регрессии. Для классификации мы можем выделить несколько классов качества вина (например, 0 - низкое качество, 1 - среднее, 2 - высокое качество). Также этот датасет не содержит пропусков, что упрощает работу.\n",
    "\n",
    "**Классификация**: задача классификации качества вина.\n",
    "**Регрессия**: задача предсказания точного значения качества вина.\n",
    "\n",
    "**Метрики для оценки**:\n",
    " - Для классификации: Accuracy, F1-Score.\n",
    " - Для регрессии: MSE, R², MAE.\n",
    "\n",
    "**Для классификации**:\n",
    "* ```Accuracy (Точность)```: Эта метрика показывает долю правильно классифицированных примеров. Применяется, если классы сбалансированы и важна общая точность классификации.\n",
    "* ```F1-Score```: Этот показатель является средним гармоническим точности и полноты. Подходит, когда классы несбалансированы, и важно минимизировать как ложноположительные, так и ложносогласные ошибки.\n",
    "\n",
    "**Для регрессии**:\n",
    "* ```Mean Squared Error (MSE)```: Среднеквадратичная ошибка используется для измерения разницы между предсказанными и реальными значениями. Это хорошая метрика для оценки точности модели в задачах регрессии.\n",
    "* ``R² (Коэффициент детерминации)``: Это метрика, которая оценивает, какая доля вариации целевой переменной объясняется моделью. R² близкий к 1 означает хорошую модель.\n",
    "* ```Mean Absolute Error (MAE)```: Средняя абсолютная ошибка также используется для оценки отклонений между предсказанными и реальными значениями.\n",
    "\n",
    "**Практическая значимость**: Прогнозирование качества вина является реальной задачей, используемой в виноделии, чтобы оценить, какие химические компоненты оказывают влияние на качество."
   ]
  },
  {
   "cell_type": "markdown",
   "metadata": {},
   "source": [
    "## Алгоритм KNN"
   ]
  },
  {
   "cell_type": "markdown",
   "metadata": {},
   "source": [
    "Импортируем библиотеки"
   ]
  },
  {
   "cell_type": "code",
   "execution_count": 276,
   "metadata": {},
   "outputs": [],
   "source": [
    "import pandas as pd\n",
    "import numpy as np\n",
    "from collections import Counter\n",
    "from sklearn.model_selection import train_test_split, GridSearchCV\n",
    "from sklearn.neighbors import KNeighborsClassifier, KNeighborsRegressor\n",
    "from sklearn.metrics import accuracy_score, f1_score, mean_squared_error, r2_score, mean_absolute_error, classification_report\n",
    "from sklearn.preprocessing import StandardScaler"
   ]
  },
  {
   "cell_type": "markdown",
   "metadata": {},
   "source": [
    "Загрузка данных из датасета"
   ]
  },
  {
   "cell_type": "code",
   "execution_count": 277,
   "metadata": {},
   "outputs": [
    {
     "data": {
      "text/html": [
       "<div>\n",
       "<style scoped>\n",
       "    .dataframe tbody tr th:only-of-type {\n",
       "        vertical-align: middle;\n",
       "    }\n",
       "\n",
       "    .dataframe tbody tr th {\n",
       "        vertical-align: top;\n",
       "    }\n",
       "\n",
       "    .dataframe thead th {\n",
       "        text-align: right;\n",
       "    }\n",
       "</style>\n",
       "<table border=\"1\" class=\"dataframe\">\n",
       "  <thead>\n",
       "    <tr style=\"text-align: right;\">\n",
       "      <th></th>\n",
       "      <th>fixed acidity</th>\n",
       "      <th>volatile acidity</th>\n",
       "      <th>citric acid</th>\n",
       "      <th>residual sugar</th>\n",
       "      <th>chlorides</th>\n",
       "      <th>free sulfur dioxide</th>\n",
       "      <th>total sulfur dioxide</th>\n",
       "      <th>density</th>\n",
       "      <th>pH</th>\n",
       "      <th>sulphates</th>\n",
       "      <th>alcohol</th>\n",
       "      <th>quality</th>\n",
       "    </tr>\n",
       "  </thead>\n",
       "  <tbody>\n",
       "    <tr>\n",
       "      <th>0</th>\n",
       "      <td>7.4</td>\n",
       "      <td>0.70</td>\n",
       "      <td>0.00</td>\n",
       "      <td>1.9</td>\n",
       "      <td>0.076</td>\n",
       "      <td>11.0</td>\n",
       "      <td>34.0</td>\n",
       "      <td>0.9978</td>\n",
       "      <td>3.51</td>\n",
       "      <td>0.56</td>\n",
       "      <td>9.4</td>\n",
       "      <td>5</td>\n",
       "    </tr>\n",
       "    <tr>\n",
       "      <th>1</th>\n",
       "      <td>7.8</td>\n",
       "      <td>0.88</td>\n",
       "      <td>0.00</td>\n",
       "      <td>2.6</td>\n",
       "      <td>0.098</td>\n",
       "      <td>25.0</td>\n",
       "      <td>67.0</td>\n",
       "      <td>0.9968</td>\n",
       "      <td>3.20</td>\n",
       "      <td>0.68</td>\n",
       "      <td>9.8</td>\n",
       "      <td>5</td>\n",
       "    </tr>\n",
       "    <tr>\n",
       "      <th>2</th>\n",
       "      <td>7.8</td>\n",
       "      <td>0.76</td>\n",
       "      <td>0.04</td>\n",
       "      <td>2.3</td>\n",
       "      <td>0.092</td>\n",
       "      <td>15.0</td>\n",
       "      <td>54.0</td>\n",
       "      <td>0.9970</td>\n",
       "      <td>3.26</td>\n",
       "      <td>0.65</td>\n",
       "      <td>9.8</td>\n",
       "      <td>5</td>\n",
       "    </tr>\n",
       "    <tr>\n",
       "      <th>3</th>\n",
       "      <td>11.2</td>\n",
       "      <td>0.28</td>\n",
       "      <td>0.56</td>\n",
       "      <td>1.9</td>\n",
       "      <td>0.075</td>\n",
       "      <td>17.0</td>\n",
       "      <td>60.0</td>\n",
       "      <td>0.9980</td>\n",
       "      <td>3.16</td>\n",
       "      <td>0.58</td>\n",
       "      <td>9.8</td>\n",
       "      <td>6</td>\n",
       "    </tr>\n",
       "    <tr>\n",
       "      <th>4</th>\n",
       "      <td>7.4</td>\n",
       "      <td>0.70</td>\n",
       "      <td>0.00</td>\n",
       "      <td>1.9</td>\n",
       "      <td>0.076</td>\n",
       "      <td>11.0</td>\n",
       "      <td>34.0</td>\n",
       "      <td>0.9978</td>\n",
       "      <td>3.51</td>\n",
       "      <td>0.56</td>\n",
       "      <td>9.4</td>\n",
       "      <td>5</td>\n",
       "    </tr>\n",
       "  </tbody>\n",
       "</table>\n",
       "</div>"
      ],
      "text/plain": [
       "   fixed acidity  volatile acidity  citric acid  residual sugar  chlorides  \\\n",
       "0            7.4              0.70         0.00             1.9      0.076   \n",
       "1            7.8              0.88         0.00             2.6      0.098   \n",
       "2            7.8              0.76         0.04             2.3      0.092   \n",
       "3           11.2              0.28         0.56             1.9      0.075   \n",
       "4            7.4              0.70         0.00             1.9      0.076   \n",
       "\n",
       "   free sulfur dioxide  total sulfur dioxide  density    pH  sulphates  \\\n",
       "0                 11.0                  34.0   0.9978  3.51       0.56   \n",
       "1                 25.0                  67.0   0.9968  3.20       0.68   \n",
       "2                 15.0                  54.0   0.9970  3.26       0.65   \n",
       "3                 17.0                  60.0   0.9980  3.16       0.58   \n",
       "4                 11.0                  34.0   0.9978  3.51       0.56   \n",
       "\n",
       "   alcohol  quality  \n",
       "0      9.4        5  \n",
       "1      9.8        5  \n",
       "2      9.8        5  \n",
       "3      9.8        6  \n",
       "4      9.4        5  "
      ]
     },
     "execution_count": 277,
     "metadata": {},
     "output_type": "execute_result"
    }
   ],
   "source": [
    "# Загрузка данных\n",
    "df = pd.read_csv('winequality-red.csv')\n",
    "df.head()"
   ]
  },
  {
   "cell_type": "markdown",
   "metadata": {},
   "source": [
    "Разделение данных:\n",
    "* Для классификации целевая переменная y_class преобразована в бинарную (0 или 1) на основе того, если качество вина больше или равно 7, считаем его высококачественным.\n",
    "\n",
    "* Для регрессии мы оставляем точное значение качества."
   ]
  },
  {
   "cell_type": "code",
   "execution_count": 278,
   "metadata": {},
   "outputs": [],
   "source": [
    "# Разделение на признаки и целевую переменную для классификации и регрессии\n",
    "X = df.drop('quality', axis=1)\n",
    "\n",
    "# Для классификации:\n",
    "y_class = (df['quality'] >= 7).astype(int)\n",
    "# Для регрессии:\n",
    "y_reg = df['quality']"
   ]
  },
  {
   "cell_type": "markdown",
   "metadata": {},
   "source": [
    "Разделение данных на обучающую и тестовую выборки (80% обучение, 20% тестирование)"
   ]
  },
  {
   "cell_type": "code",
   "execution_count": 279,
   "metadata": {},
   "outputs": [],
   "source": [
    "X_train, X_test, y_train_class, y_test_class = train_test_split(X, y_class, test_size=0.2, random_state=42)\n",
    "y_train_reg, y_test_reg = train_test_split(y_reg, test_size=0.2, random_state=42)"
   ]
  },
  {
   "cell_type": "markdown",
   "metadata": {},
   "source": [
    "### ```Классификация``` с использованием KNN"
   ]
  },
  {
   "cell_type": "code",
   "execution_count": 280,
   "metadata": {},
   "outputs": [],
   "source": [
    "knn_class = KNeighborsClassifier(n_neighbors=5)\n",
    "knn_class.fit(X_train, y_train_class)\n",
    "y_pred_class = knn_class.predict(X_test)"
   ]
  },
  {
   "cell_type": "markdown",
   "metadata": {},
   "source": [
    "Оценка модели классификации"
   ]
  },
  {
   "cell_type": "code",
   "execution_count": 281,
   "metadata": {},
   "outputs": [
    {
     "name": "stdout",
     "output_type": "stream",
     "text": [
      "Бейзлайн:\n",
      "Accuracy: 0.85625\n",
      "F1 Score: 0.30303030303030304\n"
     ]
    }
   ],
   "source": [
    "accuracy_classic_class = accuracy_score(y_test_class, y_pred_class)\n",
    "f1_classic_class = f1_score(y_test_class, y_pred_class)\n",
    "print(\"Бейзлайн:\")\n",
    "print(f\"Accuracy: {accuracy_classic_class}\")\n",
    "print(f\"F1 Score: {f1_classic_class}\")"
   ]
  },
  {
   "cell_type": "markdown",
   "metadata": {},
   "source": [
    "Подбор гиперпараметров с помощью GridSearchCV"
   ]
  },
  {
   "cell_type": "code",
   "execution_count": 282,
   "metadata": {},
   "outputs": [
    {
     "name": "stdout",
     "output_type": "stream",
     "text": [
      "Best parameters for classification: {'metric': 'manhattan', 'n_neighbors': 11}\n"
     ]
    }
   ],
   "source": [
    "param_grid = {\n",
    "    'n_neighbors': [3, 5, 7, 9, 11],\n",
    "    'metric': ['euclidean', 'manhattan', 'minkowski']\n",
    "}\n",
    "scaler = StandardScaler()\n",
    "X_train_scaled = scaler.fit_transform(X_train)\n",
    "X_test_scaled = scaler.transform(X_test)\n",
    "\n",
    "knn_class = KNeighborsClassifier()\n",
    "grid_search_class = GridSearchCV(knn_class, param_grid, cv=5)\n",
    "grid_search_class.fit(X_train_scaled, y_train_class)\n",
    "\n",
    "# Лучшие параметры\n",
    "print(\"Best parameters for classification:\", grid_search_class.best_params_)"
   ]
  },
  {
   "cell_type": "markdown",
   "metadata": {},
   "source": [
    "Обучение модели с улучшениями"
   ]
  },
  {
   "cell_type": "code",
   "execution_count": 283,
   "metadata": {},
   "outputs": [],
   "source": [
    "best_knn_class = grid_search_class.best_estimator_\n",
    "\n",
    "y_pred_class = best_knn_class.predict(X_test_scaled)\n",
    "accuracy_impr_class = accuracy_score(y_test_class, y_pred_class)\n",
    "f1_impr_class = f1_score(y_test_class, y_pred_class)"
   ]
  },
  {
   "cell_type": "markdown",
   "metadata": {},
   "source": [
    "Вывод метрик"
   ]
  },
  {
   "cell_type": "code",
   "execution_count": 284,
   "metadata": {},
   "outputs": [
    {
     "name": "stdout",
     "output_type": "stream",
     "text": [
      "Улучшенный бейзлайн:\n",
      "Accuracy: 0.88125\n",
      "F1 Score: 0.5128205128205128\n",
      "\n",
      "Classification Report:\n",
      "              precision    recall  f1-score   support\n",
      "\n",
      "           0       0.91      0.96      0.93       273\n",
      "           1       0.65      0.43      0.51        47\n",
      "\n",
      "    accuracy                           0.88       320\n",
      "   macro avg       0.78      0.69      0.72       320\n",
      "weighted avg       0.87      0.88      0.87       320\n",
      "\n"
     ]
    }
   ],
   "source": [
    "print(\"Улучшенный бейзлайн:\")\n",
    "print(f\"Accuracy: {accuracy_impr_class}\")\n",
    "print(f\"F1 Score: {f1_impr_class}\")\n",
    "\n",
    "print(\"\\nClassification Report:\")\n",
    "print(classification_report(y_test_class, y_pred_class))"
   ]
  },
  {
   "cell_type": "markdown",
   "metadata": {},
   "source": [
    "Реализуем собственную версию KNN"
   ]
  },
  {
   "cell_type": "code",
   "execution_count": 285,
   "metadata": {},
   "outputs": [
    {
     "name": "stdout",
     "output_type": "stream",
     "text": [
      "Реализация Custom KNN:\n",
      "Accuracy: 0.88125\n",
      "F1 Score: 0.5128205128205128\n"
     ]
    }
   ],
   "source": [
    "class CustomKNN:\n",
    "    def __init__(self, n_neighbors=5, metric='euclidean'):\n",
    "        self.n_neighbors = n_neighbors\n",
    "        self.metric = metric\n",
    "\n",
    "    def fit(self, X, y):\n",
    "        self.X_train = np.array(X)\n",
    "        self.y_train = np.array(y)\n",
    "\n",
    "    def _compute_distance(self, x1, x2):\n",
    "        if self.metric == 'euclidean':\n",
    "            return np.sqrt(np.sum((x1 - x2) ** 2))\n",
    "        elif self.metric == 'manhattan':\n",
    "            return np.sum(np.abs(x1 - x2))\n",
    "        else:\n",
    "            raise ValueError(\"Unsupported metric!\")\n",
    "\n",
    "    def _get_neighbors(self, x):\n",
    "        distances = [self._compute_distance(x, x_train) for x_train in self.X_train]\n",
    "        neighbors = np.argsort(distances)[:self.n_neighbors]\n",
    "        return neighbors\n",
    "\n",
    "    def predict_classification(self, X):\n",
    "        predictions = []\n",
    "        for x in X:\n",
    "            neighbors = self._get_neighbors(x)\n",
    "            neighbor_labels = self.y_train[neighbors]\n",
    "            most_common = Counter(neighbor_labels).most_common(1)[0][0]\n",
    "            predictions.append(most_common)\n",
    "        return np.array(predictions)\n",
    "\n",
    "# Обучение\n",
    "knn_custom_class = CustomKNN(n_neighbors=5)\n",
    "knn_custom_class.fit(X_train_scaled, y_train_class)\n",
    "y_pred_custom_class = knn_custom_class.predict_classification(X_test_scaled)\n",
    "\n",
    "# Метрики\n",
    "accuracy_custom_class = accuracy_score(y_test_class, y_pred_custom_class)\n",
    "f1_custom_class = f1_score(y_test_class, y_pred_custom_class)\n",
    "\n",
    "# Вывод результатов\n",
    "print(\"Реализация Custom KNN:\")\n",
    "print(f\"Accuracy: {accuracy_custom_class}\")\n",
    "print(f\"F1 Score: {f1_custom_class}\")"
   ]
  },
  {
   "cell_type": "markdown",
   "metadata": {},
   "source": [
    "Сравним полученные резльтаты:"
   ]
  },
  {
   "cell_type": "code",
   "execution_count": 286,
   "metadata": {},
   "outputs": [
    {
     "name": "stdout",
     "output_type": "stream",
     "text": [
      "Сравнение результатов:\n",
      "Бейзлайн Accuracy: 0.8562, Улучшенный Accuracy: 0.8812, Accuracy Custom KNN : 0.8812\n",
      "Бейзлайн F1-Score: 0.3030, Улучшенный F1-Score: 0.5128, F1-Score Custom KNN: 0.5128\n"
     ]
    }
   ],
   "source": [
    "print(\"Сравнение результатов:\")\n",
    "print(f\"Бейзлайн Accuracy: {accuracy_classic_class:.4f}, Улучшенный Accuracy: {accuracy_impr_class:.4f}, Accuracy Custom KNN : {accuracy_custom_class:.4f}\")\n",
    "print(f\"Бейзлайн F1-Score: {f1_classic_class:.4f}, Улучшенный F1-Score: {f1_impr_class:.4f}, F1-Score Custom KNN: {f1_custom_class:.4f}\")\n"
   ]
  },
  {
   "cell_type": "markdown",
   "metadata": {},
   "source": [
    "### ```Регрессия``` с использованием KNN"
   ]
  },
  {
   "cell_type": "code",
   "execution_count": 287,
   "metadata": {},
   "outputs": [],
   "source": [
    "knn_reg = KNeighborsRegressor(n_neighbors=5)\n",
    "knn_reg.fit(X_train, y_train_reg)\n",
    "y_pred_reg = knn_reg.predict(X_test)"
   ]
  },
  {
   "cell_type": "markdown",
   "metadata": {},
   "source": [
    "Оценка модели регрессии"
   ]
  },
  {
   "cell_type": "code",
   "execution_count": 288,
   "metadata": {},
   "outputs": [
    {
     "name": "stdout",
     "output_type": "stream",
     "text": [
      "Regression Metrics:\n",
      "Mean Squared Error (MSE): 0.5319999999999999\n",
      "Mean Absolute Error (MAE): 0.5787500000000001\n",
      "R² Score: 0.18592925775938085\n"
     ]
    }
   ],
   "source": [
    "mse_сlassic = mean_squared_error(y_test_reg, y_pred_reg)\n",
    "mae_classic = mean_absolute_error(y_test_reg, y_pred_reg)\n",
    "r2_classic = r2_score(y_test_reg, y_pred_reg)\n",
    "\n",
    "print(\"Regression Metrics:\")\n",
    "print(f\"Mean Squared Error (MSE): {mse_сlassic}\")\n",
    "print(f\"Mean Absolute Error (MAE): {mae_classic}\")\n",
    "print(f\"R² Score: {r2_classic}\")"
   ]
  },
  {
   "cell_type": "markdown",
   "metadata": {},
   "source": [
    "Подбор гиперпараметров с помощью GridSearchCV"
   ]
  },
  {
   "cell_type": "code",
   "execution_count": 289,
   "metadata": {},
   "outputs": [
    {
     "name": "stdout",
     "output_type": "stream",
     "text": [
      "Best parameters for classification: {'metric': 'manhattan', 'n_neighbors': 11}\n"
     ]
    }
   ],
   "source": [
    "param_grid = {\n",
    "    'n_neighbors': [3, 5, 7, 9, 11],\n",
    "    'metric': ['euclidean', 'manhattan', 'minkowski']\n",
    "}\n",
    "grid_search_reg = GridSearchCV(KNeighborsRegressor(), param_grid, cv=5)\n",
    "grid_search_reg.fit(X_train_scaled, y_train_reg)\n",
    "\n",
    "# Лучшие параметры\n",
    "print(\"Best parameters for classification:\", grid_search_reg.best_params_)"
   ]
  },
  {
   "cell_type": "markdown",
   "metadata": {},
   "source": [
    "Обучение с лучшими параметрами"
   ]
  },
  {
   "cell_type": "code",
   "execution_count": 290,
   "metadata": {},
   "outputs": [],
   "source": [
    "best_knn_reg = grid_search_reg.best_estimator_\n",
    "\n",
    "y_pred_reg = best_knn_reg.predict(X_test_scaled)\n",
    "mse_improved = mean_squared_error(y_test_reg, y_pred_reg)\n",
    "mae_improved = mean_absolute_error(y_test_reg, y_pred_reg)\n",
    "r2_improved = r2_score(y_test_reg, y_pred_reg)"
   ]
  },
  {
   "cell_type": "markdown",
   "metadata": {},
   "source": [
    "Вывод метрик для улучшеного бейзлайна"
   ]
  },
  {
   "cell_type": "code",
   "execution_count": 291,
   "metadata": {},
   "outputs": [
    {
     "name": "stdout",
     "output_type": "stream",
     "text": [
      "Improved Regression Metrics:\n",
      "Mean Squared Error (MSE): 0.36893078512396693\n",
      "Mean Absolute Error (MAE): 0.4900568181818182\n",
      "R² Score: 0.43545910135097343\n"
     ]
    }
   ],
   "source": [
    "print(\"Improved Regression Metrics:\")\n",
    "print(f\"Mean Squared Error (MSE): {mse_improved}\")\n",
    "print(f\"Mean Absolute Error (MAE): {mae_improved}\")\n",
    "print(f\"R² Score: {r2_improved}\")"
   ]
  },
  {
   "cell_type": "markdown",
   "metadata": {},
   "source": [
    "Реализации своей версии KNN для регрессии"
   ]
  },
  {
   "cell_type": "code",
   "execution_count": 292,
   "metadata": {},
   "outputs": [],
   "source": [
    "# Реализация KNN\n",
    "class CustomKNN:\n",
    "    def __init__(self, n_neighbors=5, metric='euclidean'):\n",
    "        self.n_neighbors = n_neighbors\n",
    "        self.metric = metric\n",
    "\n",
    "    def fit(self, X, y):\n",
    "        self.X_train = np.array(X)\n",
    "        self.y_train = np.array(y)\n",
    "\n",
    "    def _compute_distance(self, x1, x2):\n",
    "        if self.metric == 'euclidean':\n",
    "            return np.sqrt(np.sum((x1 - x2) ** 2))\n",
    "        elif self.metric == 'manhattan':\n",
    "            return np.sum(np.abs(x1 - x2))\n",
    "        else:\n",
    "            raise ValueError(\"Unsupported metric!\")\n",
    "\n",
    "    def _get_neighbors(self, x):\n",
    "        distances = [self._compute_distance(x, x_train) for x_train in self.X_train]\n",
    "        neighbors = np.argsort(distances)[:self.n_neighbors]\n",
    "        return neighbors\n",
    "\n",
    "    def predict_regression(self, X):\n",
    "        predictions = []\n",
    "        for x in X:\n",
    "            neighbors = self._get_neighbors(x)\n",
    "            neighbor_values = self.y_train[neighbors]\n",
    "            predictions.append(np.mean(neighbor_values))\n",
    "        return np.array(predictions)\n",
    "\n",
    "# Обучение\n",
    "knn_custom_reg = CustomKNN(n_neighbors=11, metric='manhattan')\n",
    "knn_custom_reg.fit(X_train_scaled, y_train_reg)\n",
    "y_pred_custom_reg = knn_custom_reg.predict_regression(X_test_scaled)"
   ]
  },
  {
   "cell_type": "markdown",
   "metadata": {},
   "source": [
    "Вывод метрик для регрессии"
   ]
  },
  {
   "cell_type": "code",
   "execution_count": 293,
   "metadata": {},
   "outputs": [
    {
     "name": "stdout",
     "output_type": "stream",
     "text": [
      "\n",
      "Custom Regression Metrics:\n",
      "Mean Squared Error (MSE): 0.36893078512396693\n",
      "Mean Absolute Error (MAE): 0.4900568181818182\n",
      "R² Score: 0.43545910135097343\n"
     ]
    }
   ],
   "source": [
    "# Регрессия\n",
    "mse_custom = mean_squared_error(y_test_reg, y_pred_custom_reg)\n",
    "mae_custom = mean_absolute_error(y_test_reg, y_pred_custom_reg)\n",
    "r2_custom = r2_score(y_test_reg, y_pred_custom_reg)\n",
    "\n",
    "print(\"\\nCustom Regression Metrics:\")\n",
    "print(f\"Mean Squared Error (MSE): {mse_custom}\")\n",
    "print(f\"Mean Absolute Error (MAE): {mae_custom}\")\n",
    "print(f\"R² Score: {r2_custom}\")"
   ]
  },
  {
   "cell_type": "code",
   "execution_count": 294,
   "metadata": {},
   "outputs": [
    {
     "name": "stdout",
     "output_type": "stream",
     "text": [
      "Сравнение результатов:\n",
      "Бейзлайн MSE: 0.5320, Улучшенный MSE: 0.3689, Custom KNN MSE: 0.3689\n",
      "Бейзлайн MAE: 0.5788, Улучшенный MAE: 0.4901, Custom KNN MAE: 0.4901\n",
      "Бейзлайн R²: 0.1859, Улучшенный R²: 0.4355, Custom KNN R²: 0.4355\n"
     ]
    }
   ],
   "source": [
    "print(\"Сравнение результатов:\")\n",
    "\n",
    "print(f\"Бейзлайн MSE: {mse_сlassic:.4f}, Улучшенный MSE: {mse_improved:.4f}, Custom KNN MSE: {mse_custom:.4f}\")\n",
    "print(f\"Бейзлайн MAE: {mae_classic:.4f}, Улучшенный MAE: {mae_improved:.4f}, Custom KNN MAE: {mae_custom:.4f}\")\n",
    "print(f\"Бейзлайн R²: {r2_classic:.4f}, Улучшенный R²: {r2_improved:.4f}, Custom KNN R²: {r2_custom:.4f}\")\n"
   ]
  },
  {
   "cell_type": "markdown",
   "metadata": {},
   "source": [
    "# Лабораторная работа №2 - Лог и Лин рег."
   ]
  },
  {
   "cell_type": "code",
   "execution_count": 362,
   "metadata": {},
   "outputs": [],
   "source": [
    "import numpy as np\n",
    "from sklearn.linear_model import LogisticRegression, LinearRegression, Ridge\n",
    "from sklearn.metrics import accuracy_score, f1_score, mean_squared_error, mean_absolute_error, r2_score, classification_report\n",
    "from sklearn.model_selection import GridSearchCV"
   ]
  },
  {
   "cell_type": "code",
   "execution_count": 363,
   "metadata": {},
   "outputs": [
    {
     "data": {
      "text/html": [
       "<div>\n",
       "<style scoped>\n",
       "    .dataframe tbody tr th:only-of-type {\n",
       "        vertical-align: middle;\n",
       "    }\n",
       "\n",
       "    .dataframe tbody tr th {\n",
       "        vertical-align: top;\n",
       "    }\n",
       "\n",
       "    .dataframe thead th {\n",
       "        text-align: right;\n",
       "    }\n",
       "</style>\n",
       "<table border=\"1\" class=\"dataframe\">\n",
       "  <thead>\n",
       "    <tr style=\"text-align: right;\">\n",
       "      <th></th>\n",
       "      <th>fixed acidity</th>\n",
       "      <th>volatile acidity</th>\n",
       "      <th>citric acid</th>\n",
       "      <th>residual sugar</th>\n",
       "      <th>chlorides</th>\n",
       "      <th>free sulfur dioxide</th>\n",
       "      <th>total sulfur dioxide</th>\n",
       "      <th>density</th>\n",
       "      <th>pH</th>\n",
       "      <th>sulphates</th>\n",
       "      <th>alcohol</th>\n",
       "      <th>quality</th>\n",
       "    </tr>\n",
       "  </thead>\n",
       "  <tbody>\n",
       "    <tr>\n",
       "      <th>0</th>\n",
       "      <td>7.4</td>\n",
       "      <td>0.70</td>\n",
       "      <td>0.00</td>\n",
       "      <td>1.9</td>\n",
       "      <td>0.076</td>\n",
       "      <td>11.0</td>\n",
       "      <td>34.0</td>\n",
       "      <td>0.9978</td>\n",
       "      <td>3.51</td>\n",
       "      <td>0.56</td>\n",
       "      <td>9.4</td>\n",
       "      <td>5</td>\n",
       "    </tr>\n",
       "    <tr>\n",
       "      <th>1</th>\n",
       "      <td>7.8</td>\n",
       "      <td>0.88</td>\n",
       "      <td>0.00</td>\n",
       "      <td>2.6</td>\n",
       "      <td>0.098</td>\n",
       "      <td>25.0</td>\n",
       "      <td>67.0</td>\n",
       "      <td>0.9968</td>\n",
       "      <td>3.20</td>\n",
       "      <td>0.68</td>\n",
       "      <td>9.8</td>\n",
       "      <td>5</td>\n",
       "    </tr>\n",
       "    <tr>\n",
       "      <th>2</th>\n",
       "      <td>7.8</td>\n",
       "      <td>0.76</td>\n",
       "      <td>0.04</td>\n",
       "      <td>2.3</td>\n",
       "      <td>0.092</td>\n",
       "      <td>15.0</td>\n",
       "      <td>54.0</td>\n",
       "      <td>0.9970</td>\n",
       "      <td>3.26</td>\n",
       "      <td>0.65</td>\n",
       "      <td>9.8</td>\n",
       "      <td>5</td>\n",
       "    </tr>\n",
       "    <tr>\n",
       "      <th>3</th>\n",
       "      <td>11.2</td>\n",
       "      <td>0.28</td>\n",
       "      <td>0.56</td>\n",
       "      <td>1.9</td>\n",
       "      <td>0.075</td>\n",
       "      <td>17.0</td>\n",
       "      <td>60.0</td>\n",
       "      <td>0.9980</td>\n",
       "      <td>3.16</td>\n",
       "      <td>0.58</td>\n",
       "      <td>9.8</td>\n",
       "      <td>6</td>\n",
       "    </tr>\n",
       "    <tr>\n",
       "      <th>4</th>\n",
       "      <td>7.4</td>\n",
       "      <td>0.70</td>\n",
       "      <td>0.00</td>\n",
       "      <td>1.9</td>\n",
       "      <td>0.076</td>\n",
       "      <td>11.0</td>\n",
       "      <td>34.0</td>\n",
       "      <td>0.9978</td>\n",
       "      <td>3.51</td>\n",
       "      <td>0.56</td>\n",
       "      <td>9.4</td>\n",
       "      <td>5</td>\n",
       "    </tr>\n",
       "  </tbody>\n",
       "</table>\n",
       "</div>"
      ],
      "text/plain": [
       "   fixed acidity  volatile acidity  citric acid  residual sugar  chlorides  \\\n",
       "0            7.4              0.70         0.00             1.9      0.076   \n",
       "1            7.8              0.88         0.00             2.6      0.098   \n",
       "2            7.8              0.76         0.04             2.3      0.092   \n",
       "3           11.2              0.28         0.56             1.9      0.075   \n",
       "4            7.4              0.70         0.00             1.9      0.076   \n",
       "\n",
       "   free sulfur dioxide  total sulfur dioxide  density    pH  sulphates  \\\n",
       "0                 11.0                  34.0   0.9978  3.51       0.56   \n",
       "1                 25.0                  67.0   0.9968  3.20       0.68   \n",
       "2                 15.0                  54.0   0.9970  3.26       0.65   \n",
       "3                 17.0                  60.0   0.9980  3.16       0.58   \n",
       "4                 11.0                  34.0   0.9978  3.51       0.56   \n",
       "\n",
       "   alcohol  quality  \n",
       "0      9.4        5  \n",
       "1      9.8        5  \n",
       "2      9.8        5  \n",
       "3      9.8        6  \n",
       "4      9.4        5  "
      ]
     },
     "execution_count": 363,
     "metadata": {},
     "output_type": "execute_result"
    }
   ],
   "source": [
    "# Загрузка данных\n",
    "df = pd.read_csv('winequality-red.csv')\n",
    "df.head()"
   ]
  },
  {
   "cell_type": "markdown",
   "metadata": {},
   "source": [
    "Разделение данных:\n",
    "* Для классификации целевая переменная y_class преобразована в бинарную (0 или 1) на основе того, если качество вина больше или равно 7, считаем его высококачественным.\n",
    "\n",
    "* Для регрессии мы оставляем точное значение качества."
   ]
  },
  {
   "cell_type": "code",
   "execution_count": 364,
   "metadata": {},
   "outputs": [],
   "source": [
    "# Разделение на признаки и целевую переменную для классификации и регрессии\n",
    "X = df.drop('quality', axis=1)\n",
    "\n",
    "# Для классификации:\n",
    "y_class = (df['quality'] >= 7).astype(int)\n",
    "# Для регрессии:\n",
    "y_reg = df['quality']"
   ]
  },
  {
   "cell_type": "markdown",
   "metadata": {},
   "source": [
    "Разделение данных на обучающую и тестовую выборки (80% обучение, 20% тестирование)"
   ]
  },
  {
   "cell_type": "code",
   "execution_count": 365,
   "metadata": {},
   "outputs": [],
   "source": [
    "X_train, X_test, y_train_class, y_test_class = train_test_split(X, y_class, test_size=0.2, random_state=42)\n",
    "y_train_reg, y_test_reg = train_test_split(y_reg, test_size=0.2, random_state=42)"
   ]
  },
  {
   "cell_type": "markdown",
   "metadata": {},
   "source": [
    "### Логистическая регрессия (классификация)"
   ]
  },
  {
   "cell_type": "markdown",
   "metadata": {},
   "source": [
    "Используем встроенный алгоритм"
   ]
  },
  {
   "cell_type": "code",
   "execution_count": 366,
   "metadata": {},
   "outputs": [
    {
     "name": "stdout",
     "output_type": "stream",
     "text": [
      "Бейзлайн:\n",
      "Accuracy: 0.865625\n",
      "F1 Score: 0.37681159420289856\n",
      "              precision    recall  f1-score   support\n",
      "\n",
      "           0       0.88      0.97      0.92       273\n",
      "           1       0.56      0.21      0.31        47\n",
      "\n",
      "    accuracy                           0.86       320\n",
      "   macro avg       0.72      0.59      0.61       320\n",
      "weighted avg       0.83      0.86      0.83       320\n",
      "\n"
     ]
    }
   ],
   "source": [
    "# Логистическая регрессия для классификации\n",
    "logreg_class = LogisticRegression(max_iter=200)\n",
    "logreg_class.fit(X_train_scaled, y_train_class)\n",
    "y_pred_class_logreg = logreg_class.predict(X_test_scaled)\n",
    "\n",
    "# Оценка качества\n",
    "accuracy_logreg = accuracy_score(y_test_class, y_pred_class_logreg)\n",
    "f1_logreg = f1_score(y_test_class, y_pred_class_logreg)\n",
    "\n",
    "print(\"Бейзлайн:\")\n",
    "print(\"Accuracy:\", accuracy_logreg)\n",
    "print(\"F1 Score:\", f1_logreg)\n",
    "print(classification_report(y_test_class, y_pred_class))"
   ]
  },
  {
   "cell_type": "markdown",
   "metadata": {},
   "source": [
    "Оптимизация гиперпараметров для улучшения базовой модели"
   ]
  },
  {
   "cell_type": "code",
   "execution_count": 367,
   "metadata": {},
   "outputs": [
    {
     "name": "stdout",
     "output_type": "stream",
     "text": [
      "Best parameters for Logistic Regression: {'C': 0.1, 'penalty': 'l2', 'solver': 'liblinear'}\n"
     ]
    }
   ],
   "source": [
    "param_grid_logreg = {\n",
    "    'C': [0.1, 1, 10],\n",
    "    'solver': ['lbfgs', 'liblinear'],\n",
    "    'penalty': ['l2']\n",
    "}\n",
    "\n",
    "grid_search_logreg = GridSearchCV(LogisticRegression(max_iter=200), param_grid_logreg, cv=5)\n",
    "grid_search_logreg.fit(X_train_scaled, y_train_class)\n",
    "\n",
    "# Лучшие параметры\n",
    "print(\"Best parameters for Logistic Regression:\", grid_search_logreg.best_params_)"
   ]
  },
  {
   "cell_type": "markdown",
   "metadata": {},
   "source": [
    "Обучаем модель с лучшими параметрами и выводим метрики"
   ]
  },
  {
   "cell_type": "code",
   "execution_count": 368,
   "metadata": {},
   "outputs": [
    {
     "name": "stdout",
     "output_type": "stream",
     "text": [
      "Улучшенный Бейзлайн:\n",
      "Accuracy: 0.8594\n",
      "F1 Score: 0.3077\n",
      "              precision    recall  f1-score   support\n",
      "\n",
      "           0       0.88      0.97      0.92       273\n",
      "           1       0.56      0.21      0.31        47\n",
      "\n",
      "    accuracy                           0.86       320\n",
      "   macro avg       0.72      0.59      0.61       320\n",
      "weighted avg       0.83      0.86      0.83       320\n",
      "\n"
     ]
    }
   ],
   "source": [
    "best_logreg = grid_search_logreg.best_estimator_\n",
    "\n",
    "y_pred_class = best_logreg.predict(X_test_scaled)\n",
    "\n",
    "accuracy_logreg_improved = accuracy_score(y_test_class, y_pred_class)\n",
    "f1_logreg_improved = f1_score(y_test_class, y_pred_class)\n",
    "\n",
    "print(\"Улучшенный Бейзлайн:\")\n",
    "print(f\"Accuracy: {accuracy_logreg_improved:.4f}\")\n",
    "print(f\"F1 Score: {f1_logreg_improved:.4f}\")\n",
    "\n",
    "print(classification_report(y_test_class, y_pred_class))"
   ]
  },
  {
   "cell_type": "markdown",
   "metadata": {},
   "source": [
    "Собственная реализация логистической регрессии"
   ]
  },
  {
   "cell_type": "code",
   "execution_count": 369,
   "metadata": {},
   "outputs": [
    {
     "name": "stdout",
     "output_type": "stream",
     "text": [
      "Custom Logistic Regression Accuracy: 0.8625\n",
      "Custom Logistic Regression F1 Score: 0.3125\n"
     ]
    }
   ],
   "source": [
    "class CustomLogisticRegression:\n",
    "    def __init__(self, learning_rate=0.01, n_iterations=1000):\n",
    "        self.learning_rate = learning_rate\n",
    "        self.n_iterations = n_iterations\n",
    "        self.weights = None\n",
    "        self.bias = None\n",
    "\n",
    "    def sigmoid(self, z):\n",
    "        return 1 / (1 + np.exp(-z))\n",
    "\n",
    "    def fit(self, X, y):\n",
    "        n_samples, n_features = X.shape\n",
    "        self.weights = np.zeros(n_features)\n",
    "        self.bias = 0\n",
    "\n",
    "        for _ in range(self.n_iterations):\n",
    "            model = np.dot(X, self.weights) + self.bias\n",
    "            predictions = self.sigmoid(model)\n",
    "            \n",
    "            dw = (1/n_samples) * np.dot(X.T, (predictions - y))\n",
    "            db = (1/n_samples) * np.sum(predictions - y)\n",
    "\n",
    "            self.weights -= self.learning_rate * dw\n",
    "            self.bias -= self.learning_rate * db\n",
    "\n",
    "    def predict(self, X):\n",
    "        model = np.dot(X, self.weights) + self.bias\n",
    "        predictions = self.sigmoid(model)\n",
    "        return [1 if i > 0.5 else 0 for i in predictions]\n",
    "\n",
    "# Обучение кастомной логистической регрессии\n",
    "custom_logreg = CustomLogisticRegression()\n",
    "custom_logreg.fit(X_train_scaled, y_train_class)\n",
    "y_pred_class_custom_logreg = custom_logreg.predict(X_test_scaled)\n",
    "\n",
    "# Оценка качества\n",
    "accuracy_custom_logreg = accuracy_score(y_test_class, y_pred_class_custom_logreg)\n",
    "f1_custom_logreg = f1_score(y_test_class, y_pred_class_custom_logreg)\n",
    "\n",
    "print(\"Custom Logistic Regression Accuracy:\", accuracy_custom_logreg)\n",
    "print(\"Custom Logistic Regression F1 Score:\", f1_custom_logreg)\n"
   ]
  },
  {
   "cell_type": "markdown",
   "metadata": {},
   "source": [
    "Сравнение результатов"
   ]
  },
  {
   "cell_type": "code",
   "execution_count": 370,
   "metadata": {},
   "outputs": [
    {
     "name": "stdout",
     "output_type": "stream",
     "text": [
      "Сравнение результатов:\n",
      "Бейзлайн Accuracy: 0.8656, Улучшенный Accuracy: 0.8594, Custom Accuracy: 0.8625\n",
      "Бейзлайн F1-Score: 0.3768, Улучшенный F1-Score: 0.3077, Custom F1-Score: 0.3125\n"
     ]
    }
   ],
   "source": [
    "# TODO (Маленькое значение f1)\n",
    "print(\"Сравнение результатов:\")\n",
    "print(f\"Бейзлайн Accuracy: {accuracy_logreg:.4f}, Улучшенный Accuracy: {accuracy_logreg_improved:.4f}, Custom Accuracy: {accuracy_custom_logreg:.4f}\")\n",
    "print(f\"Бейзлайн F1-Score: {f1_logreg:.4f}, Улучшенный F1-Score: {f1_logreg_improved:.4f}, Custom F1-Score: {f1_custom_logreg:.4f}\")"
   ]
  },
  {
   "cell_type": "markdown",
   "metadata": {},
   "source": [
    "### Линейная регрессия (регрессия)"
   ]
  },
  {
   "cell_type": "markdown",
   "metadata": {},
   "source": [
    "Обучение встроенной реализации модели"
   ]
  },
  {
   "cell_type": "code",
   "execution_count": 371,
   "metadata": {},
   "outputs": [],
   "source": [
    "linreg = LinearRegression()\n",
    "linreg.fit(X_train_scaled, y_train_reg)\n",
    "y_pred_reg_linreg = linreg.predict(X_test_scaled)"
   ]
  },
  {
   "cell_type": "markdown",
   "metadata": {},
   "source": [
    "Вывод метрик"
   ]
  },
  {
   "cell_type": "code",
   "execution_count": 378,
   "metadata": {},
   "outputs": [
    {
     "name": "stdout",
     "output_type": "stream",
     "text": [
      "Бейзлайн:\n",
      "Linear Regression MSE: 0.3900251439639551\n",
      "Linear Regression MAE: 0.5035304415524375\n",
      "Linear Regression R²: 0.40318034127962166\n"
     ]
    }
   ],
   "source": [
    "# Оценка качества\n",
    "mse_linreg = mean_squared_error(y_test_reg, y_pred_reg_linreg)\n",
    "mae_linreg = mean_absolute_error(y_test_reg, y_pred_reg_linreg)\n",
    "r2_linreg = r2_score(y_test_reg, y_pred_reg_linreg)\n",
    "\n",
    "print(\"Бейзлайн:\")\n",
    "print(\"Linear Regression MSE:\", mse_linreg)\n",
    "print(\"Linear Regression MAE:\", mae_linreg)\n",
    "print(\"Linear Regression R²:\", r2_linreg)"
   ]
  },
  {
   "cell_type": "markdown",
   "metadata": {},
   "source": [
    "Применение Ridge регрессии для улучшения модели"
   ]
  },
  {
   "cell_type": "code",
   "execution_count": 377,
   "metadata": {},
   "outputs": [
    {
     "name": "stdout",
     "output_type": "stream",
     "text": [
      "Улучшенный Бейзлайн:\n",
      "Ridge Regression MSE: 0.39003800591460774\n",
      "Ridge Regression MAE: 0.5035596204290793\n",
      "Ridge Regression R²: 0.4031606598177524\n"
     ]
    }
   ],
   "source": [
    "ridge = Ridge(alpha=1)\n",
    "ridge.fit(X_train_scaled, y_train_reg)\n",
    "y_pred_reg_ridge = ridge.predict(X_test_scaled)\n",
    "\n",
    "# Оценка качества\n",
    "mse_linreg_improved = mean_squared_error(y_test_reg, y_pred_reg_ridge)\n",
    "mae_linreg_improved = mean_absolute_error(y_test_reg, y_pred_reg_ridge)\n",
    "r2_linreg_improved = r2_score(y_test_reg, y_pred_reg_ridge)\n",
    "\n",
    "print(\"Улучшенный Бейзлайн:\")\n",
    "print(\"Ridge Regression MSE:\", mse_linreg_improved)\n",
    "print(\"Ridge Regression MAE:\", mae_linreg_improved)\n",
    "print(\"Ridge Regression R²:\", r2_linreg_improved)"
   ]
  },
  {
   "cell_type": "markdown",
   "metadata": {},
   "source": [
    "Реализация собственной версии линейной регрессии"
   ]
  },
  {
   "cell_type": "code",
   "execution_count": 374,
   "metadata": {},
   "outputs": [
    {
     "name": "stdout",
     "output_type": "stream",
     "text": [
      "Custom Linear Regression MSE: 0.38988847260196235\n",
      "Custom Linear Regression MAE: 0.5034988855585055\n",
      "Custom Linear Regression R²: 0.4033894769132691\n"
     ]
    }
   ],
   "source": [
    "class CustomLinearRegression:\n",
    "    def __init__(self, learning_rate=0.01, n_iterations=1000):\n",
    "        self.learning_rate = learning_rate\n",
    "        self.n_iterations = n_iterations\n",
    "        self.weights = None\n",
    "        self.bias = None\n",
    "\n",
    "    def fit(self, X, y):\n",
    "        n_samples, n_features = X.shape\n",
    "        self.weights = np.zeros(n_features)\n",
    "        self.bias = 0\n",
    "\n",
    "        for _ in range(self.n_iterations):\n",
    "            y_pred = np.dot(X, self.weights) + self.bias\n",
    "            dw = (1/n_samples) * np.dot(X.T, (y_pred - y))\n",
    "            db = (1/n_samples) * np.sum(y_pred - y)\n",
    "\n",
    "            self.weights -= self.learning_rate * dw\n",
    "            self.bias -= self.learning_rate * db\n",
    "\n",
    "    def predict(self, X):\n",
    "        return np.dot(X, self.weights) + self.bias\n",
    "\n",
    "# Обучение кастомной линейной регрессии\n",
    "custom_linreg = CustomLinearRegression()\n",
    "custom_linreg.fit(X_train_scaled, y_train_reg)\n",
    "y_pred_reg_custom_linreg = custom_linreg.predict(X_test_scaled)\n",
    "\n",
    "# Оценка качества\n",
    "mse_custom_linreg = mean_squared_error(y_test_reg, y_pred_reg_custom_linreg)\n",
    "mae_custom_linreg = mean_absolute_error(y_test_reg, y_pred_reg_custom_linreg)\n",
    "r2_custom_linreg = r2_score(y_test_reg, y_pred_reg_custom_linreg)\n",
    "\n",
    "print(\"Custom Linear Regression MSE:\", mse_custom_linreg)\n",
    "print(\"Custom Linear Regression MAE:\", mae_custom_linreg)\n",
    "print(\"Custom Linear Regression R²:\", r2_custom_linreg)"
   ]
  },
  {
   "cell_type": "markdown",
   "metadata": {},
   "source": [
    "Сравнение результатов:"
   ]
  },
  {
   "cell_type": "code",
   "execution_count": 376,
   "metadata": {},
   "outputs": [
    {
     "name": "stdout",
     "output_type": "stream",
     "text": [
      "Сравнение результатов:\n",
      "Бейзлайн MSE: 0.3900, Улучшенный MSE: 0.3900, Custom MSE: 0.3899\n",
      "Бейзлайн MAE: 0.5035, Улучшенный MAE: 0.5036, Custom MAE: 0.5035\n",
      "Бейзлайн R²: 0.4032, Улучшенный R²: 0.4032, Custom R²: 0.4034\n"
     ]
    }
   ],
   "source": [
    "print(\"Сравнение результатов:\")\n",
    "print(f\"Бейзлайн MSE: {mse_linreg:.4f}, Улучшенный MSE: {mse_linreg_improved:.4f}, Custom MSE: {mse_custom_linreg:.4f}\")\n",
    "print(f\"Бейзлайн MAE: {mae_linreg:.4f}, Улучшенный MAE: {mae_linreg_improved:.4f}, Custom MAE: {mae_custom_linreg:.4f}\")\n",
    "print(f\"Бейзлайн R²: {r2_linreg:.4f}, Улучшенный R²: {r2_linreg_improved:.4f}, Custom R²: {r2_custom_linreg:.4f}\")"
   ]
  },
  {
   "cell_type": "markdown",
   "metadata": {},
   "source": [
    "# Лабораторная работа №3 - Решающее дерево"
   ]
  },
  {
   "cell_type": "markdown",
   "metadata": {},
   "source": [
    "Импортируем нужные библиотеки"
   ]
  }
 ],
 "metadata": {
  "kernelspec": {
   "display_name": "Python 3",
   "language": "python",
   "name": "python3"
  },
  "language_info": {
   "codemirror_mode": {
    "name": "ipython",
    "version": 3
   },
   "file_extension": ".py",
   "mimetype": "text/x-python",
   "name": "python",
   "nbconvert_exporter": "python",
   "pygments_lexer": "ipython3",
   "version": "3.11.4"
  }
 },
 "nbformat": 4,
 "nbformat_minor": 2
}
