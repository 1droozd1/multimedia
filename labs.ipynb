{
 "cells": [
  {
   "cell_type": "markdown",
   "metadata": {},
   "source": [
    "# Лабораторная работа №1"
   ]
  },
  {
   "cell_type": "markdown",
   "metadata": {},
   "source": [
    "## Выбор набора данных и метрик\n",
    "\n",
    "Я выбрал датасет, содержащий данные о химическом составе различных вин. Этот датасет можно использовать как для классификации, так и для регрессии. Для классификации мы можем выделить несколько классов качества вина (например, 0 - низкое качество, 1 - среднее, 2 - высокое качество). Также этот датасет не содержит пропусков, что упрощает работу.\n",
    "\n",
    "**Классификация**: задача классификации качества вина.\n",
    "**Регрессия**: задача предсказания точного значения качества вина.\n",
    "\n",
    "**Метрики для оценки**:\n",
    " - Для классификации: Accuracy, F1-Score.\n",
    " - Для регрессии: MSE, R², MAE.\n",
    "\n",
    "**Для классификации**:\n",
    "* ```Accuracy (Точность)```: Эта метрика показывает долю правильно классифицированных примеров. Применяется, если классы сбалансированы и важна общая точность классификации.\n",
    "* ```F1-Score```: Этот показатель является средним гармоническим точности и полноты. Подходит, когда классы несбалансированы, и важно минимизировать как ложноположительные, так и ложносогласные ошибки.\n",
    "\n",
    "**Для регрессии**:\n",
    "* ```Mean Squared Error (MSE)```: Среднеквадратичная ошибка используется для измерения разницы между предсказанными и реальными значениями. Это хорошая метрика для оценки точности модели в задачах регрессии.\n",
    "* ``R² (Коэффициент детерминации)``: Это метрика, которая оценивает, какая доля вариации целевой переменной объясняется моделью. R² близкий к 1 означает хорошую модель.\n",
    "* ```Mean Absolute Error (MAE)```: Средняя абсолютная ошибка также используется для оценки отклонений между предсказанными и реальными значениями.\n",
    "\n",
    "**Практическая значимость**: Прогнозирование качества вина является реальной задачей, используемой в виноделии, чтобы оценить, какие химические компоненты оказывают влияние на качество."
   ]
  },
  {
   "cell_type": "markdown",
   "metadata": {},
   "source": [
    "## Алгоритм KNN"
   ]
  },
  {
   "cell_type": "markdown",
   "metadata": {},
   "source": [
    "Импортируем библиотеки"
   ]
  },
  {
   "cell_type": "code",
   "execution_count": 276,
   "metadata": {},
   "outputs": [],
   "source": [
    "import pandas as pd\n",
    "import numpy as np\n",
    "from collections import Counter\n",
    "from sklearn.model_selection import train_test_split, GridSearchCV\n",
    "from sklearn.neighbors import KNeighborsClassifier, KNeighborsRegressor\n",
    "from sklearn.metrics import accuracy_score, f1_score, mean_squared_error, r2_score, mean_absolute_error, classification_report\n",
    "from sklearn.preprocessing import StandardScaler"
   ]
  },
  {
   "cell_type": "markdown",
   "metadata": {},
   "source": [
    "Загрузка данных из датасета"
   ]
  },
  {
   "cell_type": "code",
   "execution_count": 277,
   "metadata": {},
   "outputs": [
    {
     "data": {
      "text/html": [
       "<div>\n",
       "<style scoped>\n",
       "    .dataframe tbody tr th:only-of-type {\n",
       "        vertical-align: middle;\n",
       "    }\n",
       "\n",
       "    .dataframe tbody tr th {\n",
       "        vertical-align: top;\n",
       "    }\n",
       "\n",
       "    .dataframe thead th {\n",
       "        text-align: right;\n",
       "    }\n",
       "</style>\n",
       "<table border=\"1\" class=\"dataframe\">\n",
       "  <thead>\n",
       "    <tr style=\"text-align: right;\">\n",
       "      <th></th>\n",
       "      <th>fixed acidity</th>\n",
       "      <th>volatile acidity</th>\n",
       "      <th>citric acid</th>\n",
       "      <th>residual sugar</th>\n",
       "      <th>chlorides</th>\n",
       "      <th>free sulfur dioxide</th>\n",
       "      <th>total sulfur dioxide</th>\n",
       "      <th>density</th>\n",
       "      <th>pH</th>\n",
       "      <th>sulphates</th>\n",
       "      <th>alcohol</th>\n",
       "      <th>quality</th>\n",
       "    </tr>\n",
       "  </thead>\n",
       "  <tbody>\n",
       "    <tr>\n",
       "      <th>0</th>\n",
       "      <td>7.4</td>\n",
       "      <td>0.70</td>\n",
       "      <td>0.00</td>\n",
       "      <td>1.9</td>\n",
       "      <td>0.076</td>\n",
       "      <td>11.0</td>\n",
       "      <td>34.0</td>\n",
       "      <td>0.9978</td>\n",
       "      <td>3.51</td>\n",
       "      <td>0.56</td>\n",
       "      <td>9.4</td>\n",
       "      <td>5</td>\n",
       "    </tr>\n",
       "    <tr>\n",
       "      <th>1</th>\n",
       "      <td>7.8</td>\n",
       "      <td>0.88</td>\n",
       "      <td>0.00</td>\n",
       "      <td>2.6</td>\n",
       "      <td>0.098</td>\n",
       "      <td>25.0</td>\n",
       "      <td>67.0</td>\n",
       "      <td>0.9968</td>\n",
       "      <td>3.20</td>\n",
       "      <td>0.68</td>\n",
       "      <td>9.8</td>\n",
       "      <td>5</td>\n",
       "    </tr>\n",
       "    <tr>\n",
       "      <th>2</th>\n",
       "      <td>7.8</td>\n",
       "      <td>0.76</td>\n",
       "      <td>0.04</td>\n",
       "      <td>2.3</td>\n",
       "      <td>0.092</td>\n",
       "      <td>15.0</td>\n",
       "      <td>54.0</td>\n",
       "      <td>0.9970</td>\n",
       "      <td>3.26</td>\n",
       "      <td>0.65</td>\n",
       "      <td>9.8</td>\n",
       "      <td>5</td>\n",
       "    </tr>\n",
       "    <tr>\n",
       "      <th>3</th>\n",
       "      <td>11.2</td>\n",
       "      <td>0.28</td>\n",
       "      <td>0.56</td>\n",
       "      <td>1.9</td>\n",
       "      <td>0.075</td>\n",
       "      <td>17.0</td>\n",
       "      <td>60.0</td>\n",
       "      <td>0.9980</td>\n",
       "      <td>3.16</td>\n",
       "      <td>0.58</td>\n",
       "      <td>9.8</td>\n",
       "      <td>6</td>\n",
       "    </tr>\n",
       "    <tr>\n",
       "      <th>4</th>\n",
       "      <td>7.4</td>\n",
       "      <td>0.70</td>\n",
       "      <td>0.00</td>\n",
       "      <td>1.9</td>\n",
       "      <td>0.076</td>\n",
       "      <td>11.0</td>\n",
       "      <td>34.0</td>\n",
       "      <td>0.9978</td>\n",
       "      <td>3.51</td>\n",
       "      <td>0.56</td>\n",
       "      <td>9.4</td>\n",
       "      <td>5</td>\n",
       "    </tr>\n",
       "  </tbody>\n",
       "</table>\n",
       "</div>"
      ],
      "text/plain": [
       "   fixed acidity  volatile acidity  citric acid  residual sugar  chlorides  \\\n",
       "0            7.4              0.70         0.00             1.9      0.076   \n",
       "1            7.8              0.88         0.00             2.6      0.098   \n",
       "2            7.8              0.76         0.04             2.3      0.092   \n",
       "3           11.2              0.28         0.56             1.9      0.075   \n",
       "4            7.4              0.70         0.00             1.9      0.076   \n",
       "\n",
       "   free sulfur dioxide  total sulfur dioxide  density    pH  sulphates  \\\n",
       "0                 11.0                  34.0   0.9978  3.51       0.56   \n",
       "1                 25.0                  67.0   0.9968  3.20       0.68   \n",
       "2                 15.0                  54.0   0.9970  3.26       0.65   \n",
       "3                 17.0                  60.0   0.9980  3.16       0.58   \n",
       "4                 11.0                  34.0   0.9978  3.51       0.56   \n",
       "\n",
       "   alcohol  quality  \n",
       "0      9.4        5  \n",
       "1      9.8        5  \n",
       "2      9.8        5  \n",
       "3      9.8        6  \n",
       "4      9.4        5  "
      ]
     },
     "execution_count": 277,
     "metadata": {},
     "output_type": "execute_result"
    }
   ],
   "source": [
    "# Загрузка данных\n",
    "df = pd.read_csv('winequality-red.csv')\n",
    "df.head()"
   ]
  },
  {
   "cell_type": "markdown",
   "metadata": {},
   "source": [
    "Разделение данных:\n",
    "* Для классификации целевая переменная y_class преобразована в бинарную (0 или 1) на основе того, если качество вина больше или равно 7, считаем его высококачественным.\n",
    "\n",
    "* Для регрессии мы оставляем точное значение качества."
   ]
  },
  {
   "cell_type": "code",
   "execution_count": 278,
   "metadata": {},
   "outputs": [],
   "source": [
    "# Разделение на признаки и целевую переменную для классификации и регрессии\n",
    "X = df.drop('quality', axis=1)\n",
    "\n",
    "# Для классификации:\n",
    "y_class = (df['quality'] >= 7).astype(int)\n",
    "# Для регрессии:\n",
    "y_reg = df['quality']"
   ]
  },
  {
   "cell_type": "markdown",
   "metadata": {},
   "source": [
    "Разделение данных на обучающую и тестовую выборки (80% обучение, 20% тестирование)"
   ]
  },
  {
   "cell_type": "code",
   "execution_count": 279,
   "metadata": {},
   "outputs": [],
   "source": [
    "X_train, X_test, y_train_class, y_test_class = train_test_split(X, y_class, test_size=0.2, random_state=42)\n",
    "y_train_reg, y_test_reg = train_test_split(y_reg, test_size=0.2, random_state=42)"
   ]
  },
  {
   "cell_type": "markdown",
   "metadata": {},
   "source": [
    "### ```Классификация``` с использованием KNN"
   ]
  },
  {
   "cell_type": "code",
   "execution_count": 280,
   "metadata": {},
   "outputs": [],
   "source": [
    "knn_class = KNeighborsClassifier(n_neighbors=5)\n",
    "knn_class.fit(X_train, y_train_class)\n",
    "y_pred_class = knn_class.predict(X_test)"
   ]
  },
  {
   "cell_type": "markdown",
   "metadata": {},
   "source": [
    "Оценка модели классификации"
   ]
  },
  {
   "cell_type": "code",
   "execution_count": 281,
   "metadata": {},
   "outputs": [
    {
     "name": "stdout",
     "output_type": "stream",
     "text": [
      "Бейзлайн:\n",
      "Accuracy: 0.85625\n",
      "F1 Score: 0.30303030303030304\n"
     ]
    }
   ],
   "source": [
    "accuracy_classic_class = accuracy_score(y_test_class, y_pred_class)\n",
    "f1_classic_class = f1_score(y_test_class, y_pred_class)\n",
    "print(\"Бейзлайн:\")\n",
    "print(f\"Accuracy: {accuracy_classic_class}\")\n",
    "print(f\"F1 Score: {f1_classic_class}\")"
   ]
  },
  {
   "cell_type": "markdown",
   "metadata": {},
   "source": [
    "Подбор гиперпараметров с помощью GridSearchCV"
   ]
  },
  {
   "cell_type": "code",
   "execution_count": 282,
   "metadata": {},
   "outputs": [
    {
     "name": "stdout",
     "output_type": "stream",
     "text": [
      "Best parameters for classification: {'metric': 'manhattan', 'n_neighbors': 11}\n"
     ]
    }
   ],
   "source": [
    "param_grid = {\n",
    "    'n_neighbors': [3, 5, 7, 9, 11],\n",
    "    'metric': ['euclidean', 'manhattan', 'minkowski']\n",
    "}\n",
    "scaler = StandardScaler()\n",
    "X_train_scaled = scaler.fit_transform(X_train)\n",
    "X_test_scaled = scaler.transform(X_test)\n",
    "\n",
    "knn_class = KNeighborsClassifier()\n",
    "grid_search_class = GridSearchCV(knn_class, param_grid, cv=5)\n",
    "grid_search_class.fit(X_train_scaled, y_train_class)\n",
    "\n",
    "# Лучшие параметры\n",
    "print(\"Best parameters for classification:\", grid_search_class.best_params_)"
   ]
  },
  {
   "cell_type": "markdown",
   "metadata": {},
   "source": [
    "Обучение модели с улучшениями"
   ]
  },
  {
   "cell_type": "code",
   "execution_count": 283,
   "metadata": {},
   "outputs": [],
   "source": [
    "best_knn_class = grid_search_class.best_estimator_\n",
    "\n",
    "y_pred_class = best_knn_class.predict(X_test_scaled)\n",
    "accuracy_impr_class = accuracy_score(y_test_class, y_pred_class)\n",
    "f1_impr_class = f1_score(y_test_class, y_pred_class)"
   ]
  },
  {
   "cell_type": "markdown",
   "metadata": {},
   "source": [
    "Вывод метрик"
   ]
  },
  {
   "cell_type": "code",
   "execution_count": 284,
   "metadata": {},
   "outputs": [
    {
     "name": "stdout",
     "output_type": "stream",
     "text": [
      "Улучшенный бейзлайн:\n",
      "Accuracy: 0.88125\n",
      "F1 Score: 0.5128205128205128\n",
      "\n",
      "Classification Report:\n",
      "              precision    recall  f1-score   support\n",
      "\n",
      "           0       0.91      0.96      0.93       273\n",
      "           1       0.65      0.43      0.51        47\n",
      "\n",
      "    accuracy                           0.88       320\n",
      "   macro avg       0.78      0.69      0.72       320\n",
      "weighted avg       0.87      0.88      0.87       320\n",
      "\n"
     ]
    }
   ],
   "source": [
    "print(\"Улучшенный бейзлайн:\")\n",
    "print(f\"Accuracy: {accuracy_impr_class}\")\n",
    "print(f\"F1 Score: {f1_impr_class}\")\n",
    "\n",
    "print(\"\\nClassification Report:\")\n",
    "print(classification_report(y_test_class, y_pred_class))"
   ]
  },
  {
   "cell_type": "markdown",
   "metadata": {},
   "source": [
    "Реализуем собственную версию KNN"
   ]
  },
  {
   "cell_type": "code",
   "execution_count": 285,
   "metadata": {},
   "outputs": [
    {
     "name": "stdout",
     "output_type": "stream",
     "text": [
      "Реализация Custom KNN:\n",
      "Accuracy: 0.88125\n",
      "F1 Score: 0.5128205128205128\n"
     ]
    }
   ],
   "source": [
    "class CustomKNN:\n",
    "    def __init__(self, n_neighbors=5, metric='euclidean'):\n",
    "        self.n_neighbors = n_neighbors\n",
    "        self.metric = metric\n",
    "\n",
    "    def fit(self, X, y):\n",
    "        self.X_train = np.array(X)\n",
    "        self.y_train = np.array(y)\n",
    "\n",
    "    def _compute_distance(self, x1, x2):\n",
    "        if self.metric == 'euclidean':\n",
    "            return np.sqrt(np.sum((x1 - x2) ** 2))\n",
    "        elif self.metric == 'manhattan':\n",
    "            return np.sum(np.abs(x1 - x2))\n",
    "        else:\n",
    "            raise ValueError(\"Unsupported metric!\")\n",
    "\n",
    "    def _get_neighbors(self, x):\n",
    "        distances = [self._compute_distance(x, x_train) for x_train in self.X_train]\n",
    "        neighbors = np.argsort(distances)[:self.n_neighbors]\n",
    "        return neighbors\n",
    "\n",
    "    def predict_classification(self, X):\n",
    "        predictions = []\n",
    "        for x in X:\n",
    "            neighbors = self._get_neighbors(x)\n",
    "            neighbor_labels = self.y_train[neighbors]\n",
    "            most_common = Counter(neighbor_labels).most_common(1)[0][0]\n",
    "            predictions.append(most_common)\n",
    "        return np.array(predictions)\n",
    "\n",
    "# Обучение\n",
    "knn_custom_class = CustomKNN(n_neighbors=5)\n",
    "knn_custom_class.fit(X_train_scaled, y_train_class)\n",
    "y_pred_custom_class = knn_custom_class.predict_classification(X_test_scaled)\n",
    "\n",
    "# Метрики\n",
    "accuracy_custom_class = accuracy_score(y_test_class, y_pred_custom_class)\n",
    "f1_custom_class = f1_score(y_test_class, y_pred_custom_class)\n",
    "\n",
    "# Вывод результатов\n",
    "print(\"Реализация Custom KNN:\")\n",
    "print(f\"Accuracy: {accuracy_custom_class}\")\n",
    "print(f\"F1 Score: {f1_custom_class}\")"
   ]
  },
  {
   "cell_type": "markdown",
   "metadata": {},
   "source": [
    "Сравним полученные резльтаты:"
   ]
  },
  {
   "cell_type": "code",
   "execution_count": 286,
   "metadata": {},
   "outputs": [
    {
     "name": "stdout",
     "output_type": "stream",
     "text": [
      "Сравнение результатов:\n",
      "Бейзлайн Accuracy: 0.8562, Улучшенный Accuracy: 0.8812, Accuracy Custom KNN : 0.8812\n",
      "Бейзлайн F1-Score: 0.3030, Улучшенный F1-Score: 0.5128, F1-Score Custom KNN: 0.5128\n"
     ]
    }
   ],
   "source": [
    "print(\"Сравнение результатов:\")\n",
    "print(f\"Бейзлайн Accuracy: {accuracy_classic_class:.4f}, Улучшенный Accuracy: {accuracy_impr_class:.4f}, Accuracy Custom KNN : {accuracy_custom_class:.4f}\")\n",
    "print(f\"Бейзлайн F1-Score: {f1_classic_class:.4f}, Улучшенный F1-Score: {f1_impr_class:.4f}, F1-Score Custom KNN: {f1_custom_class:.4f}\")\n"
   ]
  },
  {
   "cell_type": "markdown",
   "metadata": {},
   "source": [
    "### ```Регрессия``` с использованием KNN"
   ]
  },
  {
   "cell_type": "code",
   "execution_count": 287,
   "metadata": {},
   "outputs": [],
   "source": [
    "knn_reg = KNeighborsRegressor(n_neighbors=5)\n",
    "knn_reg.fit(X_train, y_train_reg)\n",
    "y_pred_reg = knn_reg.predict(X_test)"
   ]
  },
  {
   "cell_type": "markdown",
   "metadata": {},
   "source": [
    "Оценка модели регрессии"
   ]
  },
  {
   "cell_type": "code",
   "execution_count": 288,
   "metadata": {},
   "outputs": [
    {
     "name": "stdout",
     "output_type": "stream",
     "text": [
      "Regression Metrics:\n",
      "Mean Squared Error (MSE): 0.5319999999999999\n",
      "Mean Absolute Error (MAE): 0.5787500000000001\n",
      "R² Score: 0.18592925775938085\n"
     ]
    }
   ],
   "source": [
    "mse_сlassic = mean_squared_error(y_test_reg, y_pred_reg)\n",
    "mae_classic = mean_absolute_error(y_test_reg, y_pred_reg)\n",
    "r2_classic = r2_score(y_test_reg, y_pred_reg)\n",
    "\n",
    "print(\"Regression Metrics:\")\n",
    "print(f\"Mean Squared Error (MSE): {mse_сlassic}\")\n",
    "print(f\"Mean Absolute Error (MAE): {mae_classic}\")\n",
    "print(f\"R² Score: {r2_classic}\")"
   ]
  },
  {
   "cell_type": "markdown",
   "metadata": {},
   "source": [
    "Подбор гиперпараметров с помощью GridSearchCV"
   ]
  },
  {
   "cell_type": "code",
   "execution_count": 289,
   "metadata": {},
   "outputs": [
    {
     "name": "stdout",
     "output_type": "stream",
     "text": [
      "Best parameters for classification: {'metric': 'manhattan', 'n_neighbors': 11}\n"
     ]
    }
   ],
   "source": [
    "param_grid = {\n",
    "    'n_neighbors': [3, 5, 7, 9, 11],\n",
    "    'metric': ['euclidean', 'manhattan', 'minkowski']\n",
    "}\n",
    "grid_search_reg = GridSearchCV(KNeighborsRegressor(), param_grid, cv=5)\n",
    "grid_search_reg.fit(X_train_scaled, y_train_reg)\n",
    "\n",
    "# Лучшие параметры\n",
    "print(\"Best parameters for classification:\", grid_search_reg.best_params_)"
   ]
  },
  {
   "cell_type": "markdown",
   "metadata": {},
   "source": [
    "Обучение с лучшими параметрами"
   ]
  },
  {
   "cell_type": "code",
   "execution_count": 290,
   "metadata": {},
   "outputs": [],
   "source": [
    "best_knn_reg = grid_search_reg.best_estimator_\n",
    "\n",
    "y_pred_reg = best_knn_reg.predict(X_test_scaled)\n",
    "mse_improved = mean_squared_error(y_test_reg, y_pred_reg)\n",
    "mae_improved = mean_absolute_error(y_test_reg, y_pred_reg)\n",
    "r2_improved = r2_score(y_test_reg, y_pred_reg)"
   ]
  },
  {
   "cell_type": "markdown",
   "metadata": {},
   "source": [
    "Вывод метрик для улучшеного бейзлайна"
   ]
  },
  {
   "cell_type": "code",
   "execution_count": 291,
   "metadata": {},
   "outputs": [
    {
     "name": "stdout",
     "output_type": "stream",
     "text": [
      "Improved Regression Metrics:\n",
      "Mean Squared Error (MSE): 0.36893078512396693\n",
      "Mean Absolute Error (MAE): 0.4900568181818182\n",
      "R² Score: 0.43545910135097343\n"
     ]
    }
   ],
   "source": [
    "print(\"Improved Regression Metrics:\")\n",
    "print(f\"Mean Squared Error (MSE): {mse_improved}\")\n",
    "print(f\"Mean Absolute Error (MAE): {mae_improved}\")\n",
    "print(f\"R² Score: {r2_improved}\")"
   ]
  },
  {
   "cell_type": "markdown",
   "metadata": {},
   "source": [
    "Реализации своей версии KNN для регрессии"
   ]
  },
  {
   "cell_type": "code",
   "execution_count": 292,
   "metadata": {},
   "outputs": [],
   "source": [
    "# Реализация KNN\n",
    "class CustomKNN:\n",
    "    def __init__(self, n_neighbors=5, metric='euclidean'):\n",
    "        self.n_neighbors = n_neighbors\n",
    "        self.metric = metric\n",
    "\n",
    "    def fit(self, X, y):\n",
    "        self.X_train = np.array(X)\n",
    "        self.y_train = np.array(y)\n",
    "\n",
    "    def _compute_distance(self, x1, x2):\n",
    "        if self.metric == 'euclidean':\n",
    "            return np.sqrt(np.sum((x1 - x2) ** 2))\n",
    "        elif self.metric == 'manhattan':\n",
    "            return np.sum(np.abs(x1 - x2))\n",
    "        else:\n",
    "            raise ValueError(\"Unsupported metric!\")\n",
    "\n",
    "    def _get_neighbors(self, x):\n",
    "        distances = [self._compute_distance(x, x_train) for x_train in self.X_train]\n",
    "        neighbors = np.argsort(distances)[:self.n_neighbors]\n",
    "        return neighbors\n",
    "\n",
    "    def predict_regression(self, X):\n",
    "        predictions = []\n",
    "        for x in X:\n",
    "            neighbors = self._get_neighbors(x)\n",
    "            neighbor_values = self.y_train[neighbors]\n",
    "            predictions.append(np.mean(neighbor_values))\n",
    "        return np.array(predictions)\n",
    "\n",
    "# Обучение\n",
    "knn_custom_reg = CustomKNN(n_neighbors=11, metric='manhattan')\n",
    "knn_custom_reg.fit(X_train_scaled, y_train_reg)\n",
    "y_pred_custom_reg = knn_custom_reg.predict_regression(X_test_scaled)"
   ]
  },
  {
   "cell_type": "markdown",
   "metadata": {},
   "source": [
    "Вывод метрик для регрессии"
   ]
  },
  {
   "cell_type": "code",
   "execution_count": 293,
   "metadata": {},
   "outputs": [
    {
     "name": "stdout",
     "output_type": "stream",
     "text": [
      "\n",
      "Custom Regression Metrics:\n",
      "Mean Squared Error (MSE): 0.36893078512396693\n",
      "Mean Absolute Error (MAE): 0.4900568181818182\n",
      "R² Score: 0.43545910135097343\n"
     ]
    }
   ],
   "source": [
    "# Регрессия\n",
    "mse_custom = mean_squared_error(y_test_reg, y_pred_custom_reg)\n",
    "mae_custom = mean_absolute_error(y_test_reg, y_pred_custom_reg)\n",
    "r2_custom = r2_score(y_test_reg, y_pred_custom_reg)\n",
    "\n",
    "print(\"\\nCustom Regression Metrics:\")\n",
    "print(f\"Mean Squared Error (MSE): {mse_custom}\")\n",
    "print(f\"Mean Absolute Error (MAE): {mae_custom}\")\n",
    "print(f\"R² Score: {r2_custom}\")"
   ]
  },
  {
   "cell_type": "code",
   "execution_count": 294,
   "metadata": {},
   "outputs": [
    {
     "name": "stdout",
     "output_type": "stream",
     "text": [
      "Сравнение результатов:\n",
      "Бейзлайн MSE: 0.5320, Улучшенный MSE: 0.3689, Custom KNN MSE: 0.3689\n",
      "Бейзлайн MAE: 0.5788, Улучшенный MAE: 0.4901, Custom KNN MAE: 0.4901\n",
      "Бейзлайн R²: 0.1859, Улучшенный R²: 0.4355, Custom KNN R²: 0.4355\n"
     ]
    }
   ],
   "source": [
    "print(\"Сравнение результатов:\")\n",
    "\n",
    "print(f\"Бейзлайн MSE: {mse_сlassic:.4f}, Улучшенный MSE: {mse_improved:.4f}, Custom KNN MSE: {mse_custom:.4f}\")\n",
    "print(f\"Бейзлайн MAE: {mae_classic:.4f}, Улучшенный MAE: {mae_improved:.4f}, Custom KNN MAE: {mae_custom:.4f}\")\n",
    "print(f\"Бейзлайн R²: {r2_classic:.4f}, Улучшенный R²: {r2_improved:.4f}, Custom KNN R²: {r2_custom:.4f}\")\n"
   ]
  },
  {
   "cell_type": "markdown",
   "metadata": {},
   "source": [
    "# Лабораторная работа №2"
   ]
  }
 ],
 "metadata": {
  "kernelspec": {
   "display_name": "Python 3",
   "language": "python",
   "name": "python3"
  },
  "language_info": {
   "codemirror_mode": {
    "name": "ipython",
    "version": 3
   },
   "file_extension": ".py",
   "mimetype": "text/x-python",
   "name": "python",
   "nbconvert_exporter": "python",
   "pygments_lexer": "ipython3",
   "version": "3.11.4"
  }
 },
 "nbformat": 4,
 "nbformat_minor": 2
}
